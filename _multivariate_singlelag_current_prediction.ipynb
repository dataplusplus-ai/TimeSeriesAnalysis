{
  "nbformat": 4,
  "nbformat_minor": 0,
  "metadata": {
    "kernelspec": {
      "display_name": "Python 3",
      "language": "python",
      "name": "python3"
    },
    "language_info": {
      "codemirror_mode": {
        "name": "ipython",
        "version": 3
      },
      "file_extension": ".py",
      "mimetype": "text/x-python",
      "name": "python",
      "nbconvert_exporter": "python",
      "pygments_lexer": "ipython3",
      "version": "3.8.5"
    },
    "colab": {
      "name": "_multivariate_singlelag_current_prediction.ipynb",
      "provenance": [],
      "include_colab_link": true
    }
  },
  "cells": [
    {
      "cell_type": "markdown",
      "metadata": {
        "id": "view-in-github",
        "colab_type": "text"
      },
      "source": [
        "<a href=\"https://colab.research.google.com/github/dataplusplus-ai/TimeSeriesAnalysis/blob/main/_multivariate_singlelag_current_prediction.ipynb\" target=\"_parent\"><img src=\"https://colab.research.google.com/assets/colab-badge.svg\" alt=\"Open In Colab\"/></a>"
      ]
    },
    {
      "cell_type": "markdown",
      "metadata": {
        "id": "eYYiaitNEjfs"
      },
      "source": [
        "# 1. Air Pollution Forecasting\n",
        "We are going to use the Air Quality dataset and apply LSTM model to predict pollution level for subsequent hours. \n",
        "\n",
        "This is a dataset that reports on the weather and the level of pollution each hour for five years at the US embassy in Beijing, China.\n",
        "\n",
        "The data includes the date-time, the pollution called PM2.5 concentration, and the weather information including dew point, temperature, pressure, wind direction, wind speed and the cumulative number of hours of snow and rain. The complete feature list in the raw data is as follows:\n",
        "\n",
        "No: row number\n",
        "year: year of data in this row\n",
        "month: month of data in this row\n",
        "day: day of data in this row\n",
        "hour: hour of data in this row\n",
        "pm2.5: PM2.5 concentration\n",
        "DEWP: Dew Point\n",
        "TEMP: Temperature\n",
        "PRES: Pressure\n",
        "cbwd: Combined wind direction\n",
        "Iws: Cumulated wind speed\n",
        "Is: Cumulated hours of snow\n",
        "Ir: Cumulated hours of rain\n",
        "We can use this data and frame a forecasting problem where, given the weather conditions and pollution for prior hours, we forecast the pollution at the next hour.\n",
        "The data set is available in this link https://raw.githubusercontent.com/jbrownlee/Datasets/master/pollution.csv\n",
        "Download the dataset and place it in your current working directory with the filename “raw.csv“."
      ]
    },
    {
      "cell_type": "code",
      "metadata": {
        "id": "U3GxL0N0EjgV"
      },
      "source": [
        "import pandas as pd\n",
        "import numpy as np\n",
        "from datetime import datetime"
      ],
      "execution_count": null,
      "outputs": []
    },
    {
      "cell_type": "code",
      "metadata": {
        "id": "3WV6C5nCEjgb",
        "outputId": "cc495006-3d51-41e6-c2c7-aedd10cdafbb"
      },
      "source": [
        "raw_data=pd.read_csv('pollution_multivariate.csv')\n",
        "raw_data.head(3)"
      ],
      "execution_count": null,
      "outputs": [
        {
          "output_type": "execute_result",
          "data": {
            "text/html": [
              "<div>\n",
              "<style scoped>\n",
              "    .dataframe tbody tr th:only-of-type {\n",
              "        vertical-align: middle;\n",
              "    }\n",
              "\n",
              "    .dataframe tbody tr th {\n",
              "        vertical-align: top;\n",
              "    }\n",
              "\n",
              "    .dataframe thead th {\n",
              "        text-align: right;\n",
              "    }\n",
              "</style>\n",
              "<table border=\"1\" class=\"dataframe\">\n",
              "  <thead>\n",
              "    <tr style=\"text-align: right;\">\n",
              "      <th></th>\n",
              "      <th>No</th>\n",
              "      <th>year</th>\n",
              "      <th>month</th>\n",
              "      <th>day</th>\n",
              "      <th>hour</th>\n",
              "      <th>pm2.5</th>\n",
              "      <th>DEWP</th>\n",
              "      <th>TEMP</th>\n",
              "      <th>PRES</th>\n",
              "      <th>cbwd</th>\n",
              "      <th>Iws</th>\n",
              "      <th>Is</th>\n",
              "      <th>Ir</th>\n",
              "    </tr>\n",
              "  </thead>\n",
              "  <tbody>\n",
              "    <tr>\n",
              "      <th>0</th>\n",
              "      <td>1</td>\n",
              "      <td>2010</td>\n",
              "      <td>1</td>\n",
              "      <td>1</td>\n",
              "      <td>0</td>\n",
              "      <td>NaN</td>\n",
              "      <td>-21</td>\n",
              "      <td>-11.0</td>\n",
              "      <td>1021.0</td>\n",
              "      <td>NW</td>\n",
              "      <td>1.79</td>\n",
              "      <td>0</td>\n",
              "      <td>0</td>\n",
              "    </tr>\n",
              "    <tr>\n",
              "      <th>1</th>\n",
              "      <td>2</td>\n",
              "      <td>2010</td>\n",
              "      <td>1</td>\n",
              "      <td>1</td>\n",
              "      <td>1</td>\n",
              "      <td>NaN</td>\n",
              "      <td>-21</td>\n",
              "      <td>-12.0</td>\n",
              "      <td>1020.0</td>\n",
              "      <td>NW</td>\n",
              "      <td>4.92</td>\n",
              "      <td>0</td>\n",
              "      <td>0</td>\n",
              "    </tr>\n",
              "    <tr>\n",
              "      <th>2</th>\n",
              "      <td>3</td>\n",
              "      <td>2010</td>\n",
              "      <td>1</td>\n",
              "      <td>1</td>\n",
              "      <td>2</td>\n",
              "      <td>NaN</td>\n",
              "      <td>-21</td>\n",
              "      <td>-11.0</td>\n",
              "      <td>1019.0</td>\n",
              "      <td>NW</td>\n",
              "      <td>6.71</td>\n",
              "      <td>0</td>\n",
              "      <td>0</td>\n",
              "    </tr>\n",
              "  </tbody>\n",
              "</table>\n",
              "</div>"
            ],
            "text/plain": [
              "   No  year  month  day  hour  pm2.5  DEWP  TEMP    PRES cbwd   Iws  Is  Ir\n",
              "0   1  2010      1    1     0    NaN   -21 -11.0  1021.0   NW  1.79   0   0\n",
              "1   2  2010      1    1     1    NaN   -21 -12.0  1020.0   NW  4.92   0   0\n",
              "2   3  2010      1    1     2    NaN   -21 -11.0  1019.0   NW  6.71   0   0"
            ]
          },
          "metadata": {
            "tags": []
          },
          "execution_count": 2
        }
      ]
    },
    {
      "cell_type": "code",
      "metadata": {
        "id": "OyjfaHyJEjgi",
        "outputId": "2735f299-5280-4831-e00e-2da83044b051"
      },
      "source": [
        "raw_data.info()"
      ],
      "execution_count": null,
      "outputs": [
        {
          "output_type": "stream",
          "text": [
            "<class 'pandas.core.frame.DataFrame'>\n",
            "RangeIndex: 43824 entries, 0 to 43823\n",
            "Data columns (total 13 columns):\n",
            " #   Column  Non-Null Count  Dtype  \n",
            "---  ------  --------------  -----  \n",
            " 0   No      43824 non-null  int64  \n",
            " 1   year    43824 non-null  int64  \n",
            " 2   month   43824 non-null  int64  \n",
            " 3   day     43824 non-null  int64  \n",
            " 4   hour    43824 non-null  int64  \n",
            " 5   pm2.5   41757 non-null  float64\n",
            " 6   DEWP    43824 non-null  int64  \n",
            " 7   TEMP    43824 non-null  float64\n",
            " 8   PRES    43824 non-null  float64\n",
            " 9   cbwd    43824 non-null  object \n",
            " 10  Iws     43824 non-null  float64\n",
            " 11  Is      43824 non-null  int64  \n",
            " 12  Ir      43824 non-null  int64  \n",
            "dtypes: float64(4), int64(8), object(1)\n",
            "memory usage: 4.3+ MB\n"
          ],
          "name": "stdout"
        }
      ]
    },
    {
      "cell_type": "markdown",
      "metadata": {
        "id": "v6mJlaLAEjgk"
      },
      "source": [
        "## 2. Basic Data Preparation\n",
        "The data is not ready to use. We must prepare it first.\n",
        "The first step is to consolidate the date-time information into a single date-time so that \n",
        "we can use it as an index in Pandas.\n",
        "\n",
        "A quick check reveals NA values for pm2.5 for the first 24 hours. \n",
        "We will, therefore, need to remove the first row of data. \n",
        "There are also a few scattered “NA” values later in the dataset; we can mark them with 0 values for now.\n",
        "\n",
        "The script below loads the raw dataset and parses the date-time \n",
        "information as the Pandas DataFrame index. The “No” column is dropped and then clearer names are specified for each column.\n",
        "Finally, the NA values are replaced with “0” values and the first 24 hours are removed.\n",
        "\n",
        "\n"
      ]
    },
    {
      "cell_type": "code",
      "metadata": {
        "id": "cOYy7hzLEjgm"
      },
      "source": [
        "def parse(x):\n",
        "    return datetime.strptime(x, '%Y %m %d %H')"
      ],
      "execution_count": null,
      "outputs": []
    },
    {
      "cell_type": "code",
      "metadata": {
        "id": "sMbFGvzIEjgo"
      },
      "source": [
        "dataset = pd.read_csv('pollution_multivariate.csv',  parse_dates = [['year', 'month', 'day', 'hour']], index_col=0, date_parser=parse)"
      ],
      "execution_count": null,
      "outputs": []
    },
    {
      "cell_type": "code",
      "metadata": {
        "id": "XVvST7AsEjgp",
        "outputId": "c3b5fe00-bc17-4ac5-8b96-4f1536ed8987"
      },
      "source": [
        "dataset.head()"
      ],
      "execution_count": null,
      "outputs": [
        {
          "output_type": "execute_result",
          "data": {
            "text/html": [
              "<div>\n",
              "<style scoped>\n",
              "    .dataframe tbody tr th:only-of-type {\n",
              "        vertical-align: middle;\n",
              "    }\n",
              "\n",
              "    .dataframe tbody tr th {\n",
              "        vertical-align: top;\n",
              "    }\n",
              "\n",
              "    .dataframe thead th {\n",
              "        text-align: right;\n",
              "    }\n",
              "</style>\n",
              "<table border=\"1\" class=\"dataframe\">\n",
              "  <thead>\n",
              "    <tr style=\"text-align: right;\">\n",
              "      <th></th>\n",
              "      <th>No</th>\n",
              "      <th>pm2.5</th>\n",
              "      <th>DEWP</th>\n",
              "      <th>TEMP</th>\n",
              "      <th>PRES</th>\n",
              "      <th>cbwd</th>\n",
              "      <th>Iws</th>\n",
              "      <th>Is</th>\n",
              "      <th>Ir</th>\n",
              "    </tr>\n",
              "    <tr>\n",
              "      <th>year_month_day_hour</th>\n",
              "      <th></th>\n",
              "      <th></th>\n",
              "      <th></th>\n",
              "      <th></th>\n",
              "      <th></th>\n",
              "      <th></th>\n",
              "      <th></th>\n",
              "      <th></th>\n",
              "      <th></th>\n",
              "    </tr>\n",
              "  </thead>\n",
              "  <tbody>\n",
              "    <tr>\n",
              "      <th>2010-01-01 00:00:00</th>\n",
              "      <td>1</td>\n",
              "      <td>NaN</td>\n",
              "      <td>-21</td>\n",
              "      <td>-11.0</td>\n",
              "      <td>1021.0</td>\n",
              "      <td>NW</td>\n",
              "      <td>1.79</td>\n",
              "      <td>0</td>\n",
              "      <td>0</td>\n",
              "    </tr>\n",
              "    <tr>\n",
              "      <th>2010-01-01 01:00:00</th>\n",
              "      <td>2</td>\n",
              "      <td>NaN</td>\n",
              "      <td>-21</td>\n",
              "      <td>-12.0</td>\n",
              "      <td>1020.0</td>\n",
              "      <td>NW</td>\n",
              "      <td>4.92</td>\n",
              "      <td>0</td>\n",
              "      <td>0</td>\n",
              "    </tr>\n",
              "    <tr>\n",
              "      <th>2010-01-01 02:00:00</th>\n",
              "      <td>3</td>\n",
              "      <td>NaN</td>\n",
              "      <td>-21</td>\n",
              "      <td>-11.0</td>\n",
              "      <td>1019.0</td>\n",
              "      <td>NW</td>\n",
              "      <td>6.71</td>\n",
              "      <td>0</td>\n",
              "      <td>0</td>\n",
              "    </tr>\n",
              "    <tr>\n",
              "      <th>2010-01-01 03:00:00</th>\n",
              "      <td>4</td>\n",
              "      <td>NaN</td>\n",
              "      <td>-21</td>\n",
              "      <td>-14.0</td>\n",
              "      <td>1019.0</td>\n",
              "      <td>NW</td>\n",
              "      <td>9.84</td>\n",
              "      <td>0</td>\n",
              "      <td>0</td>\n",
              "    </tr>\n",
              "    <tr>\n",
              "      <th>2010-01-01 04:00:00</th>\n",
              "      <td>5</td>\n",
              "      <td>NaN</td>\n",
              "      <td>-20</td>\n",
              "      <td>-12.0</td>\n",
              "      <td>1018.0</td>\n",
              "      <td>NW</td>\n",
              "      <td>12.97</td>\n",
              "      <td>0</td>\n",
              "      <td>0</td>\n",
              "    </tr>\n",
              "  </tbody>\n",
              "</table>\n",
              "</div>"
            ],
            "text/plain": [
              "                     No  pm2.5  DEWP  TEMP    PRES cbwd    Iws  Is  Ir\n",
              "year_month_day_hour                                                   \n",
              "2010-01-01 00:00:00   1    NaN   -21 -11.0  1021.0   NW   1.79   0   0\n",
              "2010-01-01 01:00:00   2    NaN   -21 -12.0  1020.0   NW   4.92   0   0\n",
              "2010-01-01 02:00:00   3    NaN   -21 -11.0  1019.0   NW   6.71   0   0\n",
              "2010-01-01 03:00:00   4    NaN   -21 -14.0  1019.0   NW   9.84   0   0\n",
              "2010-01-01 04:00:00   5    NaN   -20 -12.0  1018.0   NW  12.97   0   0"
            ]
          },
          "metadata": {
            "tags": []
          },
          "execution_count": 12
        }
      ]
    },
    {
      "cell_type": "code",
      "metadata": {
        "id": "9rdRYNpBEjgr"
      },
      "source": [
        "#we do not require the column 'NO' we remove that\n",
        "dataset.drop('No', axis=1, inplace=True)"
      ],
      "execution_count": null,
      "outputs": []
    },
    {
      "cell_type": "code",
      "metadata": {
        "id": "hoZ6Mz6PEjgs"
      },
      "source": [
        "# manually specify column names\n",
        "dataset.columns = ['pollution', 'dew', 'temp', 'press', 'wnd_dir', 'wnd_spd', 'snow', 'rain']\n",
        "dataset.index.name = 'date'"
      ],
      "execution_count": null,
      "outputs": []
    },
    {
      "cell_type": "code",
      "metadata": {
        "id": "3aZdhrFrEjgt",
        "outputId": "5d02c306-6ada-4761-87c4-089be572c5f4"
      },
      "source": [
        "dataset.isnull().sum()"
      ],
      "execution_count": null,
      "outputs": [
        {
          "output_type": "execute_result",
          "data": {
            "text/plain": [
              "pollution    2067\n",
              "dew             0\n",
              "temp            0\n",
              "press           0\n",
              "wnd_dir         0\n",
              "wnd_spd         0\n",
              "snow            0\n",
              "rain            0\n",
              "dtype: int64"
            ]
          },
          "metadata": {
            "tags": []
          },
          "execution_count": 16
        }
      ]
    },
    {
      "cell_type": "code",
      "metadata": {
        "id": "q7dttKgYEjg0",
        "outputId": "0d72ae90-6607-491a-ebdd-e66c68680605"
      },
      "source": [
        "dataset.isnull().sum()"
      ],
      "execution_count": null,
      "outputs": [
        {
          "output_type": "execute_result",
          "data": {
            "text/plain": [
              "pollution    0\n",
              "dew          0\n",
              "temp         0\n",
              "press        0\n",
              "wnd_dir      0\n",
              "wnd_spd      0\n",
              "snow         0\n",
              "rain         0\n",
              "dtype: int64"
            ]
          },
          "metadata": {
            "tags": []
          },
          "execution_count": 18
        }
      ]
    },
    {
      "cell_type": "code",
      "metadata": {
        "id": "3oaP04KQEjg2"
      },
      "source": [
        "# mark all NA values with 0\n",
        "dataset['pollution'].fillna(0, inplace=True)"
      ],
      "execution_count": null,
      "outputs": []
    },
    {
      "cell_type": "code",
      "metadata": {
        "id": "b3W9s7jpEjg3",
        "outputId": "5a19f480-204a-48b8-be75-bed25083da55"
      },
      "source": [
        "raw_data.head(30)"
      ],
      "execution_count": null,
      "outputs": [
        {
          "output_type": "execute_result",
          "data": {
            "text/html": [
              "<div>\n",
              "<style scoped>\n",
              "    .dataframe tbody tr th:only-of-type {\n",
              "        vertical-align: middle;\n",
              "    }\n",
              "\n",
              "    .dataframe tbody tr th {\n",
              "        vertical-align: top;\n",
              "    }\n",
              "\n",
              "    .dataframe thead th {\n",
              "        text-align: right;\n",
              "    }\n",
              "</style>\n",
              "<table border=\"1\" class=\"dataframe\">\n",
              "  <thead>\n",
              "    <tr style=\"text-align: right;\">\n",
              "      <th></th>\n",
              "      <th>No</th>\n",
              "      <th>year</th>\n",
              "      <th>month</th>\n",
              "      <th>day</th>\n",
              "      <th>hour</th>\n",
              "      <th>pm2.5</th>\n",
              "      <th>DEWP</th>\n",
              "      <th>TEMP</th>\n",
              "      <th>PRES</th>\n",
              "      <th>cbwd</th>\n",
              "      <th>Iws</th>\n",
              "      <th>Is</th>\n",
              "      <th>Ir</th>\n",
              "    </tr>\n",
              "  </thead>\n",
              "  <tbody>\n",
              "    <tr>\n",
              "      <th>0</th>\n",
              "      <td>1</td>\n",
              "      <td>2010</td>\n",
              "      <td>1</td>\n",
              "      <td>1</td>\n",
              "      <td>0</td>\n",
              "      <td>NaN</td>\n",
              "      <td>-21</td>\n",
              "      <td>-11.0</td>\n",
              "      <td>1021.0</td>\n",
              "      <td>NW</td>\n",
              "      <td>1.79</td>\n",
              "      <td>0</td>\n",
              "      <td>0</td>\n",
              "    </tr>\n",
              "    <tr>\n",
              "      <th>1</th>\n",
              "      <td>2</td>\n",
              "      <td>2010</td>\n",
              "      <td>1</td>\n",
              "      <td>1</td>\n",
              "      <td>1</td>\n",
              "      <td>NaN</td>\n",
              "      <td>-21</td>\n",
              "      <td>-12.0</td>\n",
              "      <td>1020.0</td>\n",
              "      <td>NW</td>\n",
              "      <td>4.92</td>\n",
              "      <td>0</td>\n",
              "      <td>0</td>\n",
              "    </tr>\n",
              "    <tr>\n",
              "      <th>2</th>\n",
              "      <td>3</td>\n",
              "      <td>2010</td>\n",
              "      <td>1</td>\n",
              "      <td>1</td>\n",
              "      <td>2</td>\n",
              "      <td>NaN</td>\n",
              "      <td>-21</td>\n",
              "      <td>-11.0</td>\n",
              "      <td>1019.0</td>\n",
              "      <td>NW</td>\n",
              "      <td>6.71</td>\n",
              "      <td>0</td>\n",
              "      <td>0</td>\n",
              "    </tr>\n",
              "    <tr>\n",
              "      <th>3</th>\n",
              "      <td>4</td>\n",
              "      <td>2010</td>\n",
              "      <td>1</td>\n",
              "      <td>1</td>\n",
              "      <td>3</td>\n",
              "      <td>NaN</td>\n",
              "      <td>-21</td>\n",
              "      <td>-14.0</td>\n",
              "      <td>1019.0</td>\n",
              "      <td>NW</td>\n",
              "      <td>9.84</td>\n",
              "      <td>0</td>\n",
              "      <td>0</td>\n",
              "    </tr>\n",
              "    <tr>\n",
              "      <th>4</th>\n",
              "      <td>5</td>\n",
              "      <td>2010</td>\n",
              "      <td>1</td>\n",
              "      <td>1</td>\n",
              "      <td>4</td>\n",
              "      <td>NaN</td>\n",
              "      <td>-20</td>\n",
              "      <td>-12.0</td>\n",
              "      <td>1018.0</td>\n",
              "      <td>NW</td>\n",
              "      <td>12.97</td>\n",
              "      <td>0</td>\n",
              "      <td>0</td>\n",
              "    </tr>\n",
              "    <tr>\n",
              "      <th>5</th>\n",
              "      <td>6</td>\n",
              "      <td>2010</td>\n",
              "      <td>1</td>\n",
              "      <td>1</td>\n",
              "      <td>5</td>\n",
              "      <td>NaN</td>\n",
              "      <td>-19</td>\n",
              "      <td>-10.0</td>\n",
              "      <td>1017.0</td>\n",
              "      <td>NW</td>\n",
              "      <td>16.10</td>\n",
              "      <td>0</td>\n",
              "      <td>0</td>\n",
              "    </tr>\n",
              "    <tr>\n",
              "      <th>6</th>\n",
              "      <td>7</td>\n",
              "      <td>2010</td>\n",
              "      <td>1</td>\n",
              "      <td>1</td>\n",
              "      <td>6</td>\n",
              "      <td>NaN</td>\n",
              "      <td>-19</td>\n",
              "      <td>-9.0</td>\n",
              "      <td>1017.0</td>\n",
              "      <td>NW</td>\n",
              "      <td>19.23</td>\n",
              "      <td>0</td>\n",
              "      <td>0</td>\n",
              "    </tr>\n",
              "    <tr>\n",
              "      <th>7</th>\n",
              "      <td>8</td>\n",
              "      <td>2010</td>\n",
              "      <td>1</td>\n",
              "      <td>1</td>\n",
              "      <td>7</td>\n",
              "      <td>NaN</td>\n",
              "      <td>-19</td>\n",
              "      <td>-9.0</td>\n",
              "      <td>1017.0</td>\n",
              "      <td>NW</td>\n",
              "      <td>21.02</td>\n",
              "      <td>0</td>\n",
              "      <td>0</td>\n",
              "    </tr>\n",
              "    <tr>\n",
              "      <th>8</th>\n",
              "      <td>9</td>\n",
              "      <td>2010</td>\n",
              "      <td>1</td>\n",
              "      <td>1</td>\n",
              "      <td>8</td>\n",
              "      <td>NaN</td>\n",
              "      <td>-19</td>\n",
              "      <td>-9.0</td>\n",
              "      <td>1017.0</td>\n",
              "      <td>NW</td>\n",
              "      <td>24.15</td>\n",
              "      <td>0</td>\n",
              "      <td>0</td>\n",
              "    </tr>\n",
              "    <tr>\n",
              "      <th>9</th>\n",
              "      <td>10</td>\n",
              "      <td>2010</td>\n",
              "      <td>1</td>\n",
              "      <td>1</td>\n",
              "      <td>9</td>\n",
              "      <td>NaN</td>\n",
              "      <td>-20</td>\n",
              "      <td>-8.0</td>\n",
              "      <td>1017.0</td>\n",
              "      <td>NW</td>\n",
              "      <td>27.28</td>\n",
              "      <td>0</td>\n",
              "      <td>0</td>\n",
              "    </tr>\n",
              "    <tr>\n",
              "      <th>10</th>\n",
              "      <td>11</td>\n",
              "      <td>2010</td>\n",
              "      <td>1</td>\n",
              "      <td>1</td>\n",
              "      <td>10</td>\n",
              "      <td>NaN</td>\n",
              "      <td>-19</td>\n",
              "      <td>-7.0</td>\n",
              "      <td>1017.0</td>\n",
              "      <td>NW</td>\n",
              "      <td>31.30</td>\n",
              "      <td>0</td>\n",
              "      <td>0</td>\n",
              "    </tr>\n",
              "    <tr>\n",
              "      <th>11</th>\n",
              "      <td>12</td>\n",
              "      <td>2010</td>\n",
              "      <td>1</td>\n",
              "      <td>1</td>\n",
              "      <td>11</td>\n",
              "      <td>NaN</td>\n",
              "      <td>-18</td>\n",
              "      <td>-5.0</td>\n",
              "      <td>1017.0</td>\n",
              "      <td>NW</td>\n",
              "      <td>34.43</td>\n",
              "      <td>0</td>\n",
              "      <td>0</td>\n",
              "    </tr>\n",
              "    <tr>\n",
              "      <th>12</th>\n",
              "      <td>13</td>\n",
              "      <td>2010</td>\n",
              "      <td>1</td>\n",
              "      <td>1</td>\n",
              "      <td>12</td>\n",
              "      <td>NaN</td>\n",
              "      <td>-19</td>\n",
              "      <td>-5.0</td>\n",
              "      <td>1015.0</td>\n",
              "      <td>NW</td>\n",
              "      <td>37.56</td>\n",
              "      <td>0</td>\n",
              "      <td>0</td>\n",
              "    </tr>\n",
              "    <tr>\n",
              "      <th>13</th>\n",
              "      <td>14</td>\n",
              "      <td>2010</td>\n",
              "      <td>1</td>\n",
              "      <td>1</td>\n",
              "      <td>13</td>\n",
              "      <td>NaN</td>\n",
              "      <td>-18</td>\n",
              "      <td>-3.0</td>\n",
              "      <td>1015.0</td>\n",
              "      <td>NW</td>\n",
              "      <td>40.69</td>\n",
              "      <td>0</td>\n",
              "      <td>0</td>\n",
              "    </tr>\n",
              "    <tr>\n",
              "      <th>14</th>\n",
              "      <td>15</td>\n",
              "      <td>2010</td>\n",
              "      <td>1</td>\n",
              "      <td>1</td>\n",
              "      <td>14</td>\n",
              "      <td>NaN</td>\n",
              "      <td>-18</td>\n",
              "      <td>-2.0</td>\n",
              "      <td>1014.0</td>\n",
              "      <td>NW</td>\n",
              "      <td>43.82</td>\n",
              "      <td>0</td>\n",
              "      <td>0</td>\n",
              "    </tr>\n",
              "    <tr>\n",
              "      <th>15</th>\n",
              "      <td>16</td>\n",
              "      <td>2010</td>\n",
              "      <td>1</td>\n",
              "      <td>1</td>\n",
              "      <td>15</td>\n",
              "      <td>NaN</td>\n",
              "      <td>-18</td>\n",
              "      <td>-1.0</td>\n",
              "      <td>1014.0</td>\n",
              "      <td>cv</td>\n",
              "      <td>0.89</td>\n",
              "      <td>0</td>\n",
              "      <td>0</td>\n",
              "    </tr>\n",
              "    <tr>\n",
              "      <th>16</th>\n",
              "      <td>17</td>\n",
              "      <td>2010</td>\n",
              "      <td>1</td>\n",
              "      <td>1</td>\n",
              "      <td>16</td>\n",
              "      <td>NaN</td>\n",
              "      <td>-19</td>\n",
              "      <td>-2.0</td>\n",
              "      <td>1015.0</td>\n",
              "      <td>NW</td>\n",
              "      <td>1.79</td>\n",
              "      <td>0</td>\n",
              "      <td>0</td>\n",
              "    </tr>\n",
              "    <tr>\n",
              "      <th>17</th>\n",
              "      <td>18</td>\n",
              "      <td>2010</td>\n",
              "      <td>1</td>\n",
              "      <td>1</td>\n",
              "      <td>17</td>\n",
              "      <td>NaN</td>\n",
              "      <td>-18</td>\n",
              "      <td>-3.0</td>\n",
              "      <td>1015.0</td>\n",
              "      <td>NW</td>\n",
              "      <td>2.68</td>\n",
              "      <td>0</td>\n",
              "      <td>0</td>\n",
              "    </tr>\n",
              "    <tr>\n",
              "      <th>18</th>\n",
              "      <td>19</td>\n",
              "      <td>2010</td>\n",
              "      <td>1</td>\n",
              "      <td>1</td>\n",
              "      <td>18</td>\n",
              "      <td>NaN</td>\n",
              "      <td>-18</td>\n",
              "      <td>-5.0</td>\n",
              "      <td>1016.0</td>\n",
              "      <td>NE</td>\n",
              "      <td>1.79</td>\n",
              "      <td>0</td>\n",
              "      <td>0</td>\n",
              "    </tr>\n",
              "    <tr>\n",
              "      <th>19</th>\n",
              "      <td>20</td>\n",
              "      <td>2010</td>\n",
              "      <td>1</td>\n",
              "      <td>1</td>\n",
              "      <td>19</td>\n",
              "      <td>NaN</td>\n",
              "      <td>-17</td>\n",
              "      <td>-4.0</td>\n",
              "      <td>1017.0</td>\n",
              "      <td>NW</td>\n",
              "      <td>1.79</td>\n",
              "      <td>0</td>\n",
              "      <td>0</td>\n",
              "    </tr>\n",
              "    <tr>\n",
              "      <th>20</th>\n",
              "      <td>21</td>\n",
              "      <td>2010</td>\n",
              "      <td>1</td>\n",
              "      <td>1</td>\n",
              "      <td>20</td>\n",
              "      <td>NaN</td>\n",
              "      <td>-17</td>\n",
              "      <td>-5.0</td>\n",
              "      <td>1017.0</td>\n",
              "      <td>cv</td>\n",
              "      <td>0.89</td>\n",
              "      <td>0</td>\n",
              "      <td>0</td>\n",
              "    </tr>\n",
              "    <tr>\n",
              "      <th>21</th>\n",
              "      <td>22</td>\n",
              "      <td>2010</td>\n",
              "      <td>1</td>\n",
              "      <td>1</td>\n",
              "      <td>21</td>\n",
              "      <td>NaN</td>\n",
              "      <td>-17</td>\n",
              "      <td>-5.0</td>\n",
              "      <td>1018.0</td>\n",
              "      <td>NW</td>\n",
              "      <td>1.79</td>\n",
              "      <td>0</td>\n",
              "      <td>0</td>\n",
              "    </tr>\n",
              "    <tr>\n",
              "      <th>22</th>\n",
              "      <td>23</td>\n",
              "      <td>2010</td>\n",
              "      <td>1</td>\n",
              "      <td>1</td>\n",
              "      <td>22</td>\n",
              "      <td>NaN</td>\n",
              "      <td>-17</td>\n",
              "      <td>-5.0</td>\n",
              "      <td>1018.0</td>\n",
              "      <td>NW</td>\n",
              "      <td>2.68</td>\n",
              "      <td>0</td>\n",
              "      <td>0</td>\n",
              "    </tr>\n",
              "    <tr>\n",
              "      <th>23</th>\n",
              "      <td>24</td>\n",
              "      <td>2010</td>\n",
              "      <td>1</td>\n",
              "      <td>1</td>\n",
              "      <td>23</td>\n",
              "      <td>NaN</td>\n",
              "      <td>-17</td>\n",
              "      <td>-5.0</td>\n",
              "      <td>1020.0</td>\n",
              "      <td>cv</td>\n",
              "      <td>0.89</td>\n",
              "      <td>0</td>\n",
              "      <td>0</td>\n",
              "    </tr>\n",
              "    <tr>\n",
              "      <th>24</th>\n",
              "      <td>25</td>\n",
              "      <td>2010</td>\n",
              "      <td>1</td>\n",
              "      <td>2</td>\n",
              "      <td>0</td>\n",
              "      <td>129.0</td>\n",
              "      <td>-16</td>\n",
              "      <td>-4.0</td>\n",
              "      <td>1020.0</td>\n",
              "      <td>SE</td>\n",
              "      <td>1.79</td>\n",
              "      <td>0</td>\n",
              "      <td>0</td>\n",
              "    </tr>\n",
              "    <tr>\n",
              "      <th>25</th>\n",
              "      <td>26</td>\n",
              "      <td>2010</td>\n",
              "      <td>1</td>\n",
              "      <td>2</td>\n",
              "      <td>1</td>\n",
              "      <td>148.0</td>\n",
              "      <td>-15</td>\n",
              "      <td>-4.0</td>\n",
              "      <td>1020.0</td>\n",
              "      <td>SE</td>\n",
              "      <td>2.68</td>\n",
              "      <td>0</td>\n",
              "      <td>0</td>\n",
              "    </tr>\n",
              "    <tr>\n",
              "      <th>26</th>\n",
              "      <td>27</td>\n",
              "      <td>2010</td>\n",
              "      <td>1</td>\n",
              "      <td>2</td>\n",
              "      <td>2</td>\n",
              "      <td>159.0</td>\n",
              "      <td>-11</td>\n",
              "      <td>-5.0</td>\n",
              "      <td>1021.0</td>\n",
              "      <td>SE</td>\n",
              "      <td>3.57</td>\n",
              "      <td>0</td>\n",
              "      <td>0</td>\n",
              "    </tr>\n",
              "    <tr>\n",
              "      <th>27</th>\n",
              "      <td>28</td>\n",
              "      <td>2010</td>\n",
              "      <td>1</td>\n",
              "      <td>2</td>\n",
              "      <td>3</td>\n",
              "      <td>181.0</td>\n",
              "      <td>-7</td>\n",
              "      <td>-5.0</td>\n",
              "      <td>1022.0</td>\n",
              "      <td>SE</td>\n",
              "      <td>5.36</td>\n",
              "      <td>1</td>\n",
              "      <td>0</td>\n",
              "    </tr>\n",
              "    <tr>\n",
              "      <th>28</th>\n",
              "      <td>29</td>\n",
              "      <td>2010</td>\n",
              "      <td>1</td>\n",
              "      <td>2</td>\n",
              "      <td>4</td>\n",
              "      <td>138.0</td>\n",
              "      <td>-7</td>\n",
              "      <td>-5.0</td>\n",
              "      <td>1022.0</td>\n",
              "      <td>SE</td>\n",
              "      <td>6.25</td>\n",
              "      <td>2</td>\n",
              "      <td>0</td>\n",
              "    </tr>\n",
              "    <tr>\n",
              "      <th>29</th>\n",
              "      <td>30</td>\n",
              "      <td>2010</td>\n",
              "      <td>1</td>\n",
              "      <td>2</td>\n",
              "      <td>5</td>\n",
              "      <td>109.0</td>\n",
              "      <td>-7</td>\n",
              "      <td>-6.0</td>\n",
              "      <td>1022.0</td>\n",
              "      <td>SE</td>\n",
              "      <td>7.14</td>\n",
              "      <td>3</td>\n",
              "      <td>0</td>\n",
              "    </tr>\n",
              "  </tbody>\n",
              "</table>\n",
              "</div>"
            ],
            "text/plain": [
              "    No  year  month  day  hour  pm2.5  DEWP  TEMP    PRES cbwd    Iws  Is  Ir\n",
              "0    1  2010      1    1     0    NaN   -21 -11.0  1021.0   NW   1.79   0   0\n",
              "1    2  2010      1    1     1    NaN   -21 -12.0  1020.0   NW   4.92   0   0\n",
              "2    3  2010      1    1     2    NaN   -21 -11.0  1019.0   NW   6.71   0   0\n",
              "3    4  2010      1    1     3    NaN   -21 -14.0  1019.0   NW   9.84   0   0\n",
              "4    5  2010      1    1     4    NaN   -20 -12.0  1018.0   NW  12.97   0   0\n",
              "5    6  2010      1    1     5    NaN   -19 -10.0  1017.0   NW  16.10   0   0\n",
              "6    7  2010      1    1     6    NaN   -19  -9.0  1017.0   NW  19.23   0   0\n",
              "7    8  2010      1    1     7    NaN   -19  -9.0  1017.0   NW  21.02   0   0\n",
              "8    9  2010      1    1     8    NaN   -19  -9.0  1017.0   NW  24.15   0   0\n",
              "9   10  2010      1    1     9    NaN   -20  -8.0  1017.0   NW  27.28   0   0\n",
              "10  11  2010      1    1    10    NaN   -19  -7.0  1017.0   NW  31.30   0   0\n",
              "11  12  2010      1    1    11    NaN   -18  -5.0  1017.0   NW  34.43   0   0\n",
              "12  13  2010      1    1    12    NaN   -19  -5.0  1015.0   NW  37.56   0   0\n",
              "13  14  2010      1    1    13    NaN   -18  -3.0  1015.0   NW  40.69   0   0\n",
              "14  15  2010      1    1    14    NaN   -18  -2.0  1014.0   NW  43.82   0   0\n",
              "15  16  2010      1    1    15    NaN   -18  -1.0  1014.0   cv   0.89   0   0\n",
              "16  17  2010      1    1    16    NaN   -19  -2.0  1015.0   NW   1.79   0   0\n",
              "17  18  2010      1    1    17    NaN   -18  -3.0  1015.0   NW   2.68   0   0\n",
              "18  19  2010      1    1    18    NaN   -18  -5.0  1016.0   NE   1.79   0   0\n",
              "19  20  2010      1    1    19    NaN   -17  -4.0  1017.0   NW   1.79   0   0\n",
              "20  21  2010      1    1    20    NaN   -17  -5.0  1017.0   cv   0.89   0   0\n",
              "21  22  2010      1    1    21    NaN   -17  -5.0  1018.0   NW   1.79   0   0\n",
              "22  23  2010      1    1    22    NaN   -17  -5.0  1018.0   NW   2.68   0   0\n",
              "23  24  2010      1    1    23    NaN   -17  -5.0  1020.0   cv   0.89   0   0\n",
              "24  25  2010      1    2     0  129.0   -16  -4.0  1020.0   SE   1.79   0   0\n",
              "25  26  2010      1    2     1  148.0   -15  -4.0  1020.0   SE   2.68   0   0\n",
              "26  27  2010      1    2     2  159.0   -11  -5.0  1021.0   SE   3.57   0   0\n",
              "27  28  2010      1    2     3  181.0    -7  -5.0  1022.0   SE   5.36   1   0\n",
              "28  29  2010      1    2     4  138.0    -7  -5.0  1022.0   SE   6.25   2   0\n",
              "29  30  2010      1    2     5  109.0    -7  -6.0  1022.0   SE   7.14   3   0"
            ]
          },
          "metadata": {
            "tags": []
          },
          "execution_count": 20
        }
      ]
    },
    {
      "cell_type": "code",
      "metadata": {
        "id": "LCtFYmlHEjg4",
        "outputId": "eeb01fdf-b34b-4fa8-a69c-fdfd3ac76297"
      },
      "source": [
        "# drop the first 24 hours\n",
        "dataset = dataset[24:]\n",
        "# summarize first 5 rows\n",
        "print(dataset.head(5))\n",
        "# save to file\n",
        "#dataset.to_csv('pollution.csv')"
      ],
      "execution_count": null,
      "outputs": [
        {
          "output_type": "stream",
          "text": [
            "                     pollution  dew  temp   press wnd_dir  wnd_spd  snow  rain\n",
            "date                                                                          \n",
            "2010-01-02 00:00:00      129.0  -16  -4.0  1020.0      SE     1.79     0     0\n",
            "2010-01-02 01:00:00      148.0  -15  -4.0  1020.0      SE     2.68     0     0\n",
            "2010-01-02 02:00:00      159.0  -11  -5.0  1021.0      SE     3.57     0     0\n",
            "2010-01-02 03:00:00      181.0   -7  -5.0  1022.0      SE     5.36     1     0\n",
            "2010-01-02 04:00:00      138.0   -7  -5.0  1022.0      SE     6.25     2     0\n"
          ],
          "name": "stdout"
        }
      ]
    },
    {
      "cell_type": "code",
      "metadata": {
        "id": "T7WkviG9Ejg6",
        "outputId": "d137695c-6849-416d-a83f-ffbffc1804f2"
      },
      "source": [
        "dataset.shape"
      ],
      "execution_count": null,
      "outputs": [
        {
          "output_type": "execute_result",
          "data": {
            "text/plain": [
              "(43800, 8)"
            ]
          },
          "metadata": {
            "tags": []
          },
          "execution_count": 24
        }
      ]
    },
    {
      "cell_type": "code",
      "metadata": {
        "id": "bbTsBGg0Ejg7",
        "outputId": "1abe56db-e44e-4b2d-8c06-10d5f4a6b352"
      },
      "source": [
        "print(dataset.index.max(),dataset.index.min())"
      ],
      "execution_count": null,
      "outputs": [
        {
          "output_type": "stream",
          "text": [
            "2014-12-31 23:00:00 2010-01-02 00:00:00\n"
          ],
          "name": "stdout"
        }
      ]
    },
    {
      "cell_type": "markdown",
      "metadata": {
        "id": "eoA5cwU5Ejg8"
      },
      "source": [
        "Running this code example creates a plot with 7 subplots showing the 5 years of data for each variable.\n",
        "except wnd_dir which is a categorical variable."
      ]
    },
    {
      "cell_type": "code",
      "metadata": {
        "id": "Osv9VFaREjg9",
        "outputId": "986002b0-b518-4eb0-fe55-8ba1f368bc37"
      },
      "source": [
        "import matplotlib.pyplot as plt\n",
        "\n",
        "values = dataset.values\n",
        "# specify columns to plot\n",
        "groups = [0, 1, 2, 3, 5, 6, 7]\n",
        "i = 1\n",
        "# plot each column\n",
        "plt.figure()\n",
        "for group in groups:\n",
        "    plt.subplot(len(groups), 1, i)\n",
        "    plt.plot(values[:, group])\n",
        "    plt.title(dataset.columns[group], y=0.5, loc='right')\n",
        "    i += 1\n",
        "plt.show()"
      ],
      "execution_count": null,
      "outputs": [
        {
          "output_type": "display_data",
          "data": {
            "image/png": "[encoded data removed]",
            "text/plain": [
              "<Figure size 432x288 with 7 Axes>"
            ]
          },
          "metadata": {
            "tags": [],
            "needs_background": "light"
          }
        }
      ]
    },
    {
      "cell_type": "markdown",
      "metadata": {
        "id": "mfqEM19-EjhA"
      },
      "source": [
        "# 3. Multivariate LSTM Forecast Model\n",
        "In this section, we will fit an LSTM to the problem.\n",
        "\n",
        "## LSTM Data Preparation\n",
        "The first step is to prepare the pollution dataset for the LSTM.\n",
        "\n",
        "This involves framing the dataset as a supervised learning problem and normalizing the input variables.\n",
        "\n",
        "We will frame the supervised learning problem as predicting the pollution at the current hour (t) given the pollution measurement and weather conditions at the prior time step.\n",
        "\n",
        "This formulation is straightforward and just for this demonstration. Some alternate formulations you could explore include:\n",
        "\n",
        "Predict the pollution for the next hour based on the weather conditions and pollution over the last 24 hours.\n",
        "Predict the pollution for the next hour as above and given the “expected” weather conditions for the next hour.\n",
        "We can transform the dataset using the series_to_supervised() function developed in the blog post:\n",
        "\n",
        "How to Convert a Time Series to a Supervised Learning Problem in Python\n",
        "First, the “pollution.csv” dataset is loaded. The wind direction feature is label encoded (integer encoded). This could further be one-hot encoded in the future if you are interested in exploring it.\n",
        "\n",
        "Next, all features are normalized, then the dataset is transformed into a supervised learning problem. The weather variables for the hour to be predicted (t) are then removed.\n",
        "\n",
        "The complete code listing is provided below."
      ]
    },
    {
      "cell_type": "code",
      "metadata": {
        "id": "T-Sp89z1EjhF",
        "outputId": "620f34f0-4ffb-4fcf-81e1-7ae2c6dfb8f6"
      },
      "source": [
        "dataset.shape"
      ],
      "execution_count": null,
      "outputs": [
        {
          "output_type": "execute_result",
          "data": {
            "text/plain": [
              "(43800, 8)"
            ]
          },
          "metadata": {
            "tags": []
          },
          "execution_count": 74
        }
      ]
    },
    {
      "cell_type": "code",
      "metadata": {
        "id": "Reb-yO5MEjhH",
        "outputId": "23825b7c-e194-4fb8-e006-22d43777cae9"
      },
      "source": [
        "n_vars = 1 if type(dataset) is list else dataset.shape[1]\n",
        "n_vars"
      ],
      "execution_count": null,
      "outputs": [
        {
          "output_type": "execute_result",
          "data": {
            "text/plain": [
              "8"
            ]
          },
          "metadata": {
            "tags": []
          },
          "execution_count": 34
        }
      ]
    },
    {
      "cell_type": "code",
      "metadata": {
        "id": "uslqnPLxEjhJ"
      },
      "source": [
        "cols, names = list(), list()\n",
        "df=dataset.copy()"
      ],
      "execution_count": null,
      "outputs": []
    },
    {
      "cell_type": "code",
      "metadata": {
        "id": "jCrNMzWKEjhK",
        "outputId": "23430a4d-a027-4422-b5ce-8499fae08c27"
      },
      "source": [
        "df1=df[0:4]\n",
        "for i in range(n_in, 0, -1):\n",
        "    print(i)\n",
        "    cols.append(df1.shift(i)) #i=2 \n",
        "    names += [('var%d(t-%d)' % (j+1, i)) for j in range(n_vars)]\n",
        "print(cols)\n",
        "print(names)\n",
        "    "
      ],
      "execution_count": null,
      "outputs": [
        {
          "output_type": "stream",
          "text": [
            "2\n",
            "1\n",
            "[                     pollution   dew  temp   press wnd_dir  wnd_spd  snow  \\\n",
            "date                                                                        \n",
            "2010-01-02 00:00:00        NaN   NaN   NaN     NaN     NaN      NaN   NaN   \n",
            "2010-01-02 01:00:00        NaN   NaN   NaN     NaN     NaN      NaN   NaN   \n",
            "2010-01-02 02:00:00      129.0 -16.0  -4.0  1020.0      SE     1.79   0.0   \n",
            "2010-01-02 03:00:00      148.0 -15.0  -4.0  1020.0      SE     2.68   0.0   \n",
            "\n",
            "                     rain  \n",
            "date                       \n",
            "2010-01-02 00:00:00   NaN  \n",
            "2010-01-02 01:00:00   NaN  \n",
            "2010-01-02 02:00:00   0.0  \n",
            "2010-01-02 03:00:00   0.0  ,                      pollution   dew  temp   press wnd_dir  wnd_spd  snow  \\\n",
            "date                                                                        \n",
            "2010-01-02 00:00:00        NaN   NaN   NaN     NaN     NaN      NaN   NaN   \n",
            "2010-01-02 01:00:00      129.0 -16.0  -4.0  1020.0      SE     1.79   0.0   \n",
            "2010-01-02 02:00:00      148.0 -15.0  -4.0  1020.0      SE     2.68   0.0   \n",
            "2010-01-02 03:00:00      159.0 -11.0  -5.0  1021.0      SE     3.57   0.0   \n",
            "\n",
            "                     rain  \n",
            "date                       \n",
            "2010-01-02 00:00:00   NaN  \n",
            "2010-01-02 01:00:00   0.0  \n",
            "2010-01-02 02:00:00   0.0  \n",
            "2010-01-02 03:00:00   0.0  ]\n",
            "['var1(t-2)', 'var2(t-2)', 'var3(t-2)', 'var4(t-2)', 'var5(t-2)', 'var6(t-2)', 'var7(t-2)', 'var8(t-2)', 'var1(t-1)', 'var2(t-1)', 'var3(t-1)', 'var4(t-1)', 'var5(t-1)', 'var6(t-1)', 'var7(t-1)', 'var8(t-1)']\n"
          ],
          "name": "stdout"
        }
      ]
    },
    {
      "cell_type": "code",
      "metadata": {
        "id": "X8rSIkq3EjhL",
        "outputId": "62ee61c6-fa8b-4713-8c04-88be8f07e8c3"
      },
      "source": [
        "for i in range(0, n_out):\n",
        "    cols.append(df.shift(-i))\n",
        "if i == 0:\n",
        "    names += [('var%d(t)' % (j+1)) for j in range(n_vars)]\n",
        "else:\n",
        "\tnames += [('var%d(t+%d)' % (j+1, i)) for j in range(n_vars)]\n",
        "print(cols)\n",
        "print(names)"
      ],
      "execution_count": null,
      "outputs": [
        {
          "output_type": "stream",
          "text": [
            "[                     pollution  dew  temp   press wnd_dir  wnd_spd  snow  rain\n",
            "date                                                                          \n",
            "2010-01-02 00:00:00      129.0  -16  -4.0  1020.0      SE     1.79     0     0\n",
            "2010-01-02 01:00:00      148.0  -15  -4.0  1020.0      SE     2.68     0     0\n",
            "2010-01-02 02:00:00      159.0  -11  -5.0  1021.0      SE     3.57     0     0\n",
            "2010-01-02 03:00:00      181.0   -7  -5.0  1022.0      SE     5.36     1     0\n",
            "2010-01-02 04:00:00      138.0   -7  -5.0  1022.0      SE     6.25     2     0\n",
            "...                        ...  ...   ...     ...     ...      ...   ...   ...\n",
            "2014-12-31 19:00:00        8.0  -23  -2.0  1034.0      NW   231.97     0     0\n",
            "2014-12-31 20:00:00       10.0  -22  -3.0  1034.0      NW   237.78     0     0\n",
            "2014-12-31 21:00:00       10.0  -22  -3.0  1034.0      NW   242.70     0     0\n",
            "2014-12-31 22:00:00        8.0  -22  -4.0  1034.0      NW   246.72     0     0\n",
            "2014-12-31 23:00:00       12.0  -21  -3.0  1034.0      NW   249.85     0     0\n",
            "\n",
            "[43800 rows x 8 columns],                      pollution   dew  temp   press wnd_dir  wnd_spd  snow  \\\n",
            "date                                                                        \n",
            "2010-01-02 00:00:00      148.0 -15.0  -4.0  1020.0      SE     2.68   0.0   \n",
            "2010-01-02 01:00:00      159.0 -11.0  -5.0  1021.0      SE     3.57   0.0   \n",
            "2010-01-02 02:00:00      181.0  -7.0  -5.0  1022.0      SE     5.36   1.0   \n",
            "2010-01-02 03:00:00      138.0  -7.0  -5.0  1022.0      SE     6.25   2.0   \n",
            "2010-01-02 04:00:00      109.0  -7.0  -6.0  1022.0      SE     7.14   3.0   \n",
            "...                        ...   ...   ...     ...     ...      ...   ...   \n",
            "2014-12-31 19:00:00       10.0 -22.0  -3.0  1034.0      NW   237.78   0.0   \n",
            "2014-12-31 20:00:00       10.0 -22.0  -3.0  1034.0      NW   242.70   0.0   \n",
            "2014-12-31 21:00:00        8.0 -22.0  -4.0  1034.0      NW   246.72   0.0   \n",
            "2014-12-31 22:00:00       12.0 -21.0  -3.0  1034.0      NW   249.85   0.0   \n",
            "2014-12-31 23:00:00        NaN   NaN   NaN     NaN     NaN      NaN   NaN   \n",
            "\n",
            "                     rain  \n",
            "date                       \n",
            "2010-01-02 00:00:00   0.0  \n",
            "2010-01-02 01:00:00   0.0  \n",
            "2010-01-02 02:00:00   0.0  \n",
            "2010-01-02 03:00:00   0.0  \n",
            "2010-01-02 04:00:00   0.0  \n",
            "...                   ...  \n",
            "2014-12-31 19:00:00   0.0  \n",
            "2014-12-31 20:00:00   0.0  \n",
            "2014-12-31 21:00:00   0.0  \n",
            "2014-12-31 22:00:00   0.0  \n",
            "2014-12-31 23:00:00   NaN  \n",
            "\n",
            "[43800 rows x 8 columns]]\n",
            "['var1(t+1)', 'var2(t+1)', 'var3(t+1)', 'var4(t+1)', 'var5(t+1)', 'var6(t+1)', 'var7(t+1)', 'var8(t+1)']\n"
          ],
          "name": "stdout"
        }
      ]
    },
    {
      "cell_type": "code",
      "metadata": {
        "id": "RKAS7nTgEjhN",
        "outputId": "f8006ea3-f1d9-4170-80d9-f4c1685600ba"
      },
      "source": [
        "n_in=2\n",
        "n_out=2\n",
        "for i in range(n_in, 0, -1):\n",
        "\t\tcols.append(df.shift(i)) #i=2 \n",
        "\t\tnames += [('var%d(t-%d)' % (j+1, i)) for j in range(n_vars)]\n",
        "\t# forecast sequence (t, t+1, ... t+n)\n",
        "for i in range(0, n_out):\n",
        "    cols.append(df.shift(-i))\n",
        "if i == 0:\n",
        "    names += [('var%d(t)' % (j+1)) for j in range(n_vars)]\n",
        "else:\n",
        "\tnames += [('var%d(t+%d)' % (j+1, i)) for j in range(n_vars)]\n",
        "print(cols)\n",
        "print(names)"
      ],
      "execution_count": null,
      "outputs": [
        {
          "output_type": "stream",
          "text": [
            "[                     pollution   dew  temp   press wnd_dir  wnd_spd  snow  \\\n",
            "date                                                                        \n",
            "2010-01-02 00:00:00        NaN   NaN   NaN     NaN     NaN      NaN   NaN   \n",
            "2010-01-02 01:00:00        NaN   NaN   NaN     NaN     NaN      NaN   NaN   \n",
            "2010-01-02 02:00:00      129.0 -16.0  -4.0  1020.0      SE     1.79   0.0   \n",
            "2010-01-02 03:00:00      148.0 -15.0  -4.0  1020.0      SE     2.68   0.0   \n",
            "2010-01-02 04:00:00      159.0 -11.0  -5.0  1021.0      SE     3.57   0.0   \n",
            "...                        ...   ...   ...     ...     ...      ...   ...   \n",
            "2014-12-31 19:00:00        9.0 -22.0  -1.0  1033.0      NW   221.24   0.0   \n",
            "2014-12-31 20:00:00       10.0 -22.0  -2.0  1033.0      NW   226.16   0.0   \n",
            "2014-12-31 21:00:00        8.0 -23.0  -2.0  1034.0      NW   231.97   0.0   \n",
            "2014-12-31 22:00:00       10.0 -22.0  -3.0  1034.0      NW   237.78   0.0   \n",
            "2014-12-31 23:00:00       10.0 -22.0  -3.0  1034.0      NW   242.70   0.0   \n",
            "\n",
            "                     rain  \n",
            "date                       \n",
            "2010-01-02 00:00:00   NaN  \n",
            "2010-01-02 01:00:00   NaN  \n",
            "2010-01-02 02:00:00   0.0  \n",
            "2010-01-02 03:00:00   0.0  \n",
            "2010-01-02 04:00:00   0.0  \n",
            "...                   ...  \n",
            "2014-12-31 19:00:00   0.0  \n",
            "2014-12-31 20:00:00   0.0  \n",
            "2014-12-31 21:00:00   0.0  \n",
            "2014-12-31 22:00:00   0.0  \n",
            "2014-12-31 23:00:00   0.0  \n",
            "\n",
            "[43800 rows x 8 columns],                      pollution   dew  temp   press wnd_dir  wnd_spd  snow  \\\n",
            "date                                                                        \n",
            "2010-01-02 00:00:00        NaN   NaN   NaN     NaN     NaN      NaN   NaN   \n",
            "2010-01-02 01:00:00      129.0 -16.0  -4.0  1020.0      SE     1.79   0.0   \n",
            "2010-01-02 02:00:00      148.0 -15.0  -4.0  1020.0      SE     2.68   0.0   \n",
            "2010-01-02 03:00:00      159.0 -11.0  -5.0  1021.0      SE     3.57   0.0   \n",
            "2010-01-02 04:00:00      181.0  -7.0  -5.0  1022.0      SE     5.36   1.0   \n",
            "...                        ...   ...   ...     ...     ...      ...   ...   \n",
            "2014-12-31 19:00:00       10.0 -22.0  -2.0  1033.0      NW   226.16   0.0   \n",
            "2014-12-31 20:00:00        8.0 -23.0  -2.0  1034.0      NW   231.97   0.0   \n",
            "2014-12-31 21:00:00       10.0 -22.0  -3.0  1034.0      NW   237.78   0.0   \n",
            "2014-12-31 22:00:00       10.0 -22.0  -3.0  1034.0      NW   242.70   0.0   \n",
            "2014-12-31 23:00:00        8.0 -22.0  -4.0  1034.0      NW   246.72   0.0   \n",
            "\n",
            "                     rain  \n",
            "date                       \n",
            "2010-01-02 00:00:00   NaN  \n",
            "2010-01-02 01:00:00   0.0  \n",
            "2010-01-02 02:00:00   0.0  \n",
            "2010-01-02 03:00:00   0.0  \n",
            "2010-01-02 04:00:00   0.0  \n",
            "...                   ...  \n",
            "2014-12-31 19:00:00   0.0  \n",
            "2014-12-31 20:00:00   0.0  \n",
            "2014-12-31 21:00:00   0.0  \n",
            "2014-12-31 22:00:00   0.0  \n",
            "2014-12-31 23:00:00   0.0  \n",
            "\n",
            "[43800 rows x 8 columns],                      pollution  dew  temp   press wnd_dir  wnd_spd  snow  rain\n",
            "date                                                                          \n",
            "2010-01-02 00:00:00      129.0  -16  -4.0  1020.0      SE     1.79     0     0\n",
            "2010-01-02 01:00:00      148.0  -15  -4.0  1020.0      SE     2.68     0     0\n",
            "2010-01-02 02:00:00      159.0  -11  -5.0  1021.0      SE     3.57     0     0\n",
            "2010-01-02 03:00:00      181.0   -7  -5.0  1022.0      SE     5.36     1     0\n",
            "2010-01-02 04:00:00      138.0   -7  -5.0  1022.0      SE     6.25     2     0\n",
            "...                        ...  ...   ...     ...     ...      ...   ...   ...\n",
            "2014-12-31 19:00:00        8.0  -23  -2.0  1034.0      NW   231.97     0     0\n",
            "2014-12-31 20:00:00       10.0  -22  -3.0  1034.0      NW   237.78     0     0\n",
            "2014-12-31 21:00:00       10.0  -22  -3.0  1034.0      NW   242.70     0     0\n",
            "2014-12-31 22:00:00        8.0  -22  -4.0  1034.0      NW   246.72     0     0\n",
            "2014-12-31 23:00:00       12.0  -21  -3.0  1034.0      NW   249.85     0     0\n",
            "\n",
            "[43800 rows x 8 columns],                      pollution   dew  temp   press wnd_dir  wnd_spd  snow  \\\n",
            "date                                                                        \n",
            "2010-01-02 00:00:00      148.0 -15.0  -4.0  1020.0      SE     2.68   0.0   \n",
            "2010-01-02 01:00:00      159.0 -11.0  -5.0  1021.0      SE     3.57   0.0   \n",
            "2010-01-02 02:00:00      181.0  -7.0  -5.0  1022.0      SE     5.36   1.0   \n",
            "2010-01-02 03:00:00      138.0  -7.0  -5.0  1022.0      SE     6.25   2.0   \n",
            "2010-01-02 04:00:00      109.0  -7.0  -6.0  1022.0      SE     7.14   3.0   \n",
            "...                        ...   ...   ...     ...     ...      ...   ...   \n",
            "2014-12-31 19:00:00       10.0 -22.0  -3.0  1034.0      NW   237.78   0.0   \n",
            "2014-12-31 20:00:00       10.0 -22.0  -3.0  1034.0      NW   242.70   0.0   \n",
            "2014-12-31 21:00:00        8.0 -22.0  -4.0  1034.0      NW   246.72   0.0   \n",
            "2014-12-31 22:00:00       12.0 -21.0  -3.0  1034.0      NW   249.85   0.0   \n",
            "2014-12-31 23:00:00        NaN   NaN   NaN     NaN     NaN      NaN   NaN   \n",
            "\n",
            "                     rain  \n",
            "date                       \n",
            "2010-01-02 00:00:00   0.0  \n",
            "2010-01-02 01:00:00   0.0  \n",
            "2010-01-02 02:00:00   0.0  \n",
            "2010-01-02 03:00:00   0.0  \n",
            "2010-01-02 04:00:00   0.0  \n",
            "...                   ...  \n",
            "2014-12-31 19:00:00   0.0  \n",
            "2014-12-31 20:00:00   0.0  \n",
            "2014-12-31 21:00:00   0.0  \n",
            "2014-12-31 22:00:00   0.0  \n",
            "2014-12-31 23:00:00   NaN  \n",
            "\n",
            "[43800 rows x 8 columns]]\n",
            "['var1(t-2)', 'var2(t-2)', 'var3(t-2)', 'var4(t-2)', 'var5(t-2)', 'var6(t-2)', 'var7(t-2)', 'var8(t-2)', 'var1(t-1)', 'var2(t-1)', 'var3(t-1)', 'var4(t-1)', 'var5(t-1)', 'var6(t-1)', 'var7(t-1)', 'var8(t-1)', 'var1(t+1)', 'var2(t+1)', 'var3(t+1)', 'var4(t+1)', 'var5(t+1)', 'var6(t+1)', 'var7(t+1)', 'var8(t+1)']\n"
          ],
          "name": "stdout"
        }
      ]
    },
    {
      "cell_type": "code",
      "metadata": {
        "id": "-N6gPl2YEjhO",
        "outputId": "69ffe195-e564-4dbe-d221-0d8f49d7fe15"
      },
      "source": [
        "# prepare data for lstm\n",
        "from pandas import read_csv\n",
        "from pandas import DataFrame\n",
        "from pandas import concat\n",
        "from sklearn.preprocessing import LabelEncoder\n",
        "from sklearn.preprocessing import MinMaxScaler\n",
        "\n",
        "# convert series to supervised learning\n",
        "def series_to_supervised(data, n_in=1, n_out=1, dropnan=True):\n",
        "\tn_vars = 1 if type(data) is list else data.shape[1]\n",
        "\tdf = DataFrame(data)\n",
        "\tcols, names = list(), list()\n",
        "\t# input sequence (t-n, ... t-1)\n",
        "\tfor i in range(n_in, 0, -1):\n",
        "\t\tcols.append(df.shift(i))\n",
        "\t\tnames += [('var%d(t-%d)' % (j+1, i)) for j in range(n_vars)]\n",
        "\t# forecast sequence (t, t+1, ... t+n)\n",
        "\tfor i in range(0, n_out):\n",
        "\t\tcols.append(df.shift(-i))\n",
        "\t\tif i == 0:\n",
        "\t\t\tnames += [('var%d(t)' % (j+1)) for j in range(n_vars)]\n",
        "\t\telse:\n",
        "\t\t\tnames += [('var%d(t+%d)' % (j+1, i)) for j in range(n_vars)]\n",
        "\t# put it all together\n",
        "\tagg = concat(cols, axis=1)\n",
        "\tagg.columns = names\n",
        "\t# drop rows with NaN values\n",
        "\tif dropnan:\n",
        "\t\tagg.dropna(inplace=True)\n",
        "\treturn agg\n",
        "\n",
        "# load dataset\n",
        "#dataset = read_csv('pollution.csv', header=0, index_col=0)\n",
        "values = dataset.values\n",
        "# integer encode direction\n",
        "encoder = LabelEncoder()\n",
        "values[:,4] = encoder.fit_transform(values[:,4])\n",
        "# ensure all data is float\n",
        "values = values.astype('float32')\n",
        "# normalize features\n",
        "scaler = MinMaxScaler(feature_range=(0, 1))\n",
        "scaled = scaler.fit_transform(values)\n",
        "# frame as supervised learning\n",
        "reframed = series_to_supervised(scaled, 1, 1)\n",
        "# drop columns we don't want to predict\n",
        "#reframed.drop(reframed.columns[[9,10,11,12,13,14,15]], axis=1, inplace=True)\n",
        "print(reframed.head())"
      ],
      "execution_count": null,
      "outputs": [
        {
          "output_type": "stream",
          "text": [
            "   var1(t-1)  var2(t-1)  var3(t-1)  var4(t-1)  var5(t-1)  var6(t-1)  \\\n",
            "1   0.129779   0.352941   0.245902   0.527273   0.666667   0.002290   \n",
            "2   0.148893   0.367647   0.245902   0.527273   0.666667   0.003811   \n",
            "3   0.159960   0.426471   0.229508   0.545454   0.666667   0.005332   \n",
            "4   0.182093   0.485294   0.229508   0.563637   0.666667   0.008391   \n",
            "5   0.138833   0.485294   0.229508   0.563637   0.666667   0.009912   \n",
            "\n",
            "   var7(t-1)  var8(t-1)   var1(t)   var2(t)   var3(t)   var4(t)   var5(t)  \\\n",
            "1   0.000000        0.0  0.148893  0.367647  0.245902  0.527273  0.666667   \n",
            "2   0.000000        0.0  0.159960  0.426471  0.229508  0.545454  0.666667   \n",
            "3   0.000000        0.0  0.182093  0.485294  0.229508  0.563637  0.666667   \n",
            "4   0.037037        0.0  0.138833  0.485294  0.229508  0.563637  0.666667   \n",
            "5   0.074074        0.0  0.109658  0.485294  0.213115  0.563637  0.666667   \n",
            "\n",
            "    var6(t)   var7(t)  var8(t)  \n",
            "1  0.003811  0.000000      0.0  \n",
            "2  0.005332  0.000000      0.0  \n",
            "3  0.008391  0.037037      0.0  \n",
            "4  0.009912  0.074074      0.0  \n",
            "5  0.011433  0.111111      0.0  \n"
          ],
          "name": "stdout"
        }
      ]
    },
    {
      "cell_type": "code",
      "metadata": {
        "id": "CP4GzxWQEjhU"
      },
      "source": [
        "reframed.drop(reframed.columns[[9,10,11,12,13,14,15]], axis=1, inplace=True)"
      ],
      "execution_count": null,
      "outputs": []
    },
    {
      "cell_type": "markdown",
      "metadata": {
        "id": "g4oxgRtnEjhV"
      },
      "source": [
        "This data preparation is simple and there is more we could explore. Some ideas you could look at include:\n",
        "\n",
        "One-hot encoding wind direction.\n",
        "Making all series stationary with differencing and seasonal adjustment.\n",
        "Providing more than 1 hour of input time steps.\n",
        "This last point is perhaps the most important given the use of Backpropagation through time by LSTMs when learning sequence prediction problems.\n",
        "\n",
        "## Define and Fit Model\n",
        "In this section, we will fit an LSTM on the multivariate input data.\n",
        "\n",
        "First, we must split the prepared dataset into train and test sets. To speed up the training of the model for this demonstration, we will only fit the model on the first year of data, then evaluate it on the remaining 4 years of data. If you have time, consider exploring the inverted version of this test harness.\n",
        "\n",
        "The example below splits the dataset into train and test sets, then splits the train and test sets into input and output variables. Finally, the inputs (X) are reshaped into the 3D format expected by LSTMs, namely [samples, timesteps, features]."
      ]
    },
    {
      "cell_type": "code",
      "metadata": {
        "id": "LiAJ8xNeEjhW"
      },
      "source": [
        "# split into train and test sets\n",
        "values = reframed.values\n",
        "n_train_hours = 365 * 24\n",
        "train = values[:n_train_hours, :]\n",
        "test = values[n_train_hours:, :]\n",
        "# split into input and outputs\n",
        "train_X, train_y = train[:, :-1], train[:, -1]\n",
        "test_X, test_y = test[:, :-1], test[:, -1]\n"
      ],
      "execution_count": null,
      "outputs": []
    },
    {
      "cell_type": "code",
      "metadata": {
        "id": "2yG_tr81EjhX",
        "outputId": "3c28ef63-5322-450f-cdcf-b0b88b598f91"
      },
      "source": [
        "train_y[0:5]"
      ],
      "execution_count": null,
      "outputs": [
        {
          "output_type": "execute_result",
          "data": {
            "text/plain": [
              "array([0.14889336, 0.15995975, 0.18209255, 0.13883299, 0.10965794],\n",
              "      dtype=float32)"
            ]
          },
          "metadata": {
            "tags": []
          },
          "execution_count": 78
        }
      ]
    },
    {
      "cell_type": "code",
      "metadata": {
        "id": "x-RUF1TfEjhZ",
        "outputId": "e194ed4d-a170-417d-aa8b-71322429fd29"
      },
      "source": [
        "train_X[0:5]"
      ],
      "execution_count": null,
      "outputs": [
        {
          "output_type": "execute_result",
          "data": {
            "text/plain": [
              "array([[0.12977867, 0.35294122, 0.24590163, 0.5272732 , 0.6666667 ,\n",
              "        0.00229001, 0.        , 0.        ],\n",
              "       [0.14889336, 0.36764708, 0.24590163, 0.5272732 , 0.6666667 ,\n",
              "        0.00381099, 0.        , 0.        ],\n",
              "       [0.15995975, 0.4264706 , 0.22950819, 0.545454  , 0.6666667 ,\n",
              "        0.00533197, 0.        , 0.        ],\n",
              "       [0.18209255, 0.48529413, 0.22950819, 0.5636368 , 0.6666667 ,\n",
              "        0.00839101, 0.03703704, 0.        ],\n",
              "       [0.13883299, 0.48529413, 0.22950819, 0.5636368 , 0.6666667 ,\n",
              "        0.00991199, 0.07407407, 0.        ]], dtype=float32)"
            ]
          },
          "metadata": {
            "tags": []
          },
          "execution_count": 79
        }
      ]
    },
    {
      "cell_type": "code",
      "metadata": {
        "id": "5oGxu_M1Ejha",
        "outputId": "1d2ae431-2876-4dbb-fbaf-e9162bef07d9"
      },
      "source": [
        "print(train_X.shape,test_X.shape)"
      ],
      "execution_count": null,
      "outputs": [
        {
          "output_type": "stream",
          "text": [
            "(8760, 8) (35039, 8)\n"
          ],
          "name": "stdout"
        }
      ]
    },
    {
      "cell_type": "code",
      "metadata": {
        "id": "UQncAureEjhb",
        "outputId": "85d2b3a1-88a5-49a6-cbef-21c0273e1cc0"
      },
      "source": [
        "# reshape input to be 3D [samples, timesteps, features]\n",
        "train_X = train_X.reshape((train_X.shape[0], 1, train_X.shape[1]))\n",
        "test_X = test_X.reshape((test_X.shape[0], 1, test_X.shape[1]))\n",
        "print(train_X.shape, train_y.shape, test_X.shape, test_y.shape)"
      ],
      "execution_count": null,
      "outputs": [
        {
          "output_type": "stream",
          "text": [
            "(8760, 1, 8) (8760,) (35039, 1, 8) (35039,)\n"
          ],
          "name": "stdout"
        }
      ]
    },
    {
      "cell_type": "markdown",
      "metadata": {
        "id": "4NdxCuR9Ejhd"
      },
      "source": [
        "Now we can define and fit our LSTM model.\n",
        "\n",
        "We will define the LSTM with 50 neurons in the first hidden layer and 1 neuron in the output layer for predicting pollution. The input shape will be 1 time step with 8 features.\n",
        "\n",
        "We will use the Mean Absolute Error (MAE) loss function and the efficient Adam version of stochastic gradient descent.\n",
        "\n",
        "The model will be fit for 50 training epochs with a batch size of 72. Remember that the internal state of the LSTM in Keras is reset at the end of each batch, so an internal state that is a function of a number of days may be helpful (try testing this).\n",
        "\n",
        "Finally, we keep track of both the training and test loss during training by setting the validation_data argument in the fit() function. At the end of the run both the training and test loss are plotted."
      ]
    },
    {
      "cell_type": "code",
      "metadata": {
        "id": "rlb0GhrPEjhe",
        "outputId": "fa34a815-858a-44ab-88f1-98bb2e1b6cbf"
      },
      "source": [
        "...\n",
        "from sklearn.metrics import mean_squared_error\n",
        "from keras.models import Sequential\n",
        "from keras.layers import Dense\n",
        "from keras.layers import LSTM\n",
        "# design network\n",
        "model = Sequential()\n",
        "model.add(LSTM(50, input_shape=(train_X.shape[1], train_X.shape[2])))\n",
        "model.add(Dense(1))\n",
        "model.compile(loss='mae', optimizer='adam')\n",
        "# fit network\n",
        "history = model.fit(train_X, train_y, epochs=50, batch_size=72, validation_data=(test_X, test_y), verbose=2, shuffle=False)\n",
        "# plot history\n"
      ],
      "execution_count": null,
      "outputs": [
        {
          "output_type": "stream",
          "text": [
            "Epoch 1/50\n",
            "122/122 - 6s - loss: 0.0549 - val_loss: 0.0554\n",
            "Epoch 2/50\n",
            "122/122 - 3s - loss: 0.0382 - val_loss: 0.0550\n",
            "Epoch 3/50\n",
            "122/122 - 3s - loss: 0.0216 - val_loss: 0.0464\n",
            "Epoch 4/50\n",
            "122/122 - 4s - loss: 0.0168 - val_loss: 0.0341\n",
            "Epoch 5/50\n",
            "122/122 - 6s - loss: 0.0156 - val_loss: 0.0229\n",
            "Epoch 6/50\n",
            "122/122 - 4s - loss: 0.0151 - val_loss: 0.0186\n",
            "Epoch 7/50\n",
            "122/122 - 4s - loss: 0.0150 - val_loss: 0.0176\n",
            "Epoch 8/50\n",
            "122/122 - 4s - loss: 0.0150 - val_loss: 0.0166\n",
            "Epoch 9/50\n",
            "122/122 - 6s - loss: 0.0149 - val_loss: 0.0158\n",
            "Epoch 10/50\n",
            "122/122 - 6s - loss: 0.0149 - val_loss: 0.0152\n",
            "Epoch 11/50\n",
            "122/122 - 7s - loss: 0.0147 - val_loss: 0.0144\n",
            "Epoch 12/50\n",
            "122/122 - 6s - loss: 0.0147 - val_loss: 0.0144\n",
            "Epoch 13/50\n",
            "122/122 - 5s - loss: 0.0147 - val_loss: 0.0143\n",
            "Epoch 14/50\n",
            "122/122 - 5s - loss: 0.0147 - val_loss: 0.0145\n",
            "Epoch 15/50\n",
            "122/122 - 4s - loss: 0.0148 - val_loss: 0.0141\n",
            "Epoch 16/50\n",
            "122/122 - 5s - loss: 0.0146 - val_loss: 0.0142\n",
            "Epoch 17/50\n",
            "122/122 - 5s - loss: 0.0146 - val_loss: 0.0138\n",
            "Epoch 18/50\n",
            "122/122 - 4s - loss: 0.0145 - val_loss: 0.0142\n",
            "Epoch 19/50\n",
            "122/122 - 4s - loss: 0.0145 - val_loss: 0.0139\n",
            "Epoch 20/50\n",
            "122/122 - 4s - loss: 0.0145 - val_loss: 0.0138\n",
            "Epoch 21/50\n",
            "122/122 - 5s - loss: 0.0145 - val_loss: 0.0137\n",
            "Epoch 22/50\n",
            "122/122 - 8s - loss: 0.0144 - val_loss: 0.0136\n",
            "Epoch 23/50\n",
            "122/122 - 6s - loss: 0.0144 - val_loss: 0.0136\n",
            "Epoch 24/50\n",
            "122/122 - 6s - loss: 0.0144 - val_loss: 0.0135\n",
            "Epoch 25/50\n",
            "122/122 - 7s - loss: 0.0145 - val_loss: 0.0135\n",
            "Epoch 26/50\n",
            "122/122 - 8s - loss: 0.0144 - val_loss: 0.0135\n",
            "Epoch 27/50\n",
            "122/122 - 6s - loss: 0.0144 - val_loss: 0.0135\n",
            "Epoch 28/50\n",
            "122/122 - 6s - loss: 0.0145 - val_loss: 0.0135\n",
            "Epoch 29/50\n",
            "122/122 - 6s - loss: 0.0145 - val_loss: 0.0138\n",
            "Epoch 30/50\n",
            "122/122 - 7s - loss: 0.0145 - val_loss: 0.0136\n",
            "Epoch 31/50\n",
            "122/122 - 7s - loss: 0.0144 - val_loss: 0.0135\n",
            "Epoch 32/50\n",
            "122/122 - 7s - loss: 0.0144 - val_loss: 0.0135\n",
            "Epoch 33/50\n",
            "122/122 - 5s - loss: 0.0144 - val_loss: 0.0135\n",
            "Epoch 34/50\n",
            "122/122 - 5s - loss: 0.0144 - val_loss: 0.0134\n",
            "Epoch 35/50\n",
            "122/122 - 5s - loss: 0.0144 - val_loss: 0.0137\n",
            "Epoch 36/50\n",
            "122/122 - 4s - loss: 0.0144 - val_loss: 0.0135\n",
            "Epoch 37/50\n",
            "122/122 - 7s - loss: 0.0144 - val_loss: 0.0135\n",
            "Epoch 38/50\n",
            "122/122 - 6s - loss: 0.0143 - val_loss: 0.0135\n",
            "Epoch 39/50\n",
            "122/122 - 4s - loss: 0.0144 - val_loss: 0.0135\n",
            "Epoch 40/50\n",
            "122/122 - 5s - loss: 0.0144 - val_loss: 0.0135\n",
            "Epoch 41/50\n",
            "122/122 - 6s - loss: 0.0143 - val_loss: 0.0134\n",
            "Epoch 42/50\n",
            "122/122 - 5s - loss: 0.0143 - val_loss: 0.0134\n",
            "Epoch 43/50\n",
            "122/122 - 5s - loss: 0.0144 - val_loss: 0.0134\n",
            "Epoch 44/50\n",
            "122/122 - 5s - loss: 0.0144 - val_loss: 0.0134\n",
            "Epoch 45/50\n",
            "122/122 - 8s - loss: 0.0144 - val_loss: 0.0134\n",
            "Epoch 46/50\n",
            "122/122 - 6s - loss: 0.0143 - val_loss: 0.0135\n",
            "Epoch 47/50\n",
            "122/122 - 6s - loss: 0.0144 - val_loss: 0.0133\n",
            "Epoch 48/50\n",
            "122/122 - 7s - loss: 0.0143 - val_loss: 0.0134\n",
            "Epoch 49/50\n",
            "122/122 - 7s - loss: 0.0143 - val_loss: 0.0133\n",
            "Epoch 50/50\n",
            "122/122 - 6s - loss: 0.0143 - val_loss: 0.0134\n"
          ],
          "name": "stdout"
        }
      ]
    },
    {
      "cell_type": "code",
      "metadata": {
        "id": "yPpkMk2VEjhk",
        "outputId": "e9268a90-ede5-48db-9f30-43c2c0c5b208"
      },
      "source": [
        "plt.plot(history.history['loss'], label='train')\n",
        "plt.plot(history.history['val_loss'], label='test')\n",
        "plt.legend()\n",
        "plt.show()"
      ],
      "execution_count": null,
      "outputs": [
        {
          "output_type": "display_data",
          "data": {
            "image/png": "[encoded data removed]",
            "text/plain": [
              "<Figure size 432x288 with 1 Axes>"
            ]
          },
          "metadata": {
            "tags": [],
            "needs_background": "light"
          }
        }
      ]
    },
    {
      "cell_type": "code",
      "metadata": {
        "id": "Kz2PPAycEjhm"
      },
      "source": [
        ""
      ],
      "execution_count": null,
      "outputs": []
    },
    {
      "cell_type": "markdown",
      "metadata": {
        "id": "AmizC70XEjhm"
      },
      "source": [
        "## Evaluate Model\n",
        "After the model is fit, we can forecast for the entire test dataset.\n",
        "\n",
        "We combine the forecast with the test dataset and invert the scaling. We also invert scaling on the test dataset with the expected pollution numbers.\n",
        "\n",
        "With forecasts and actual values in their original scale, we can then calculate an error score for the model. In this case, we calculate the Root Mean Squared Error (RMSE) that gives error in the same units as the variable itself."
      ]
    },
    {
      "cell_type": "code",
      "metadata": {
        "id": "EOaMKX87Ejhn",
        "outputId": "a1f60d1b-3d77-4252-b444-c412f4325940"
      },
      "source": [
        "test_X[0]"
      ],
      "execution_count": null,
      "outputs": [
        {
          "output_type": "execute_result",
          "data": {
            "text/plain": [
              "array([[0.0362173 , 0.33823532, 0.1967213 , 0.83636475, 0.33333334,\n",
              "        0.12757413, 0.        , 0.        ]], dtype=float32)"
            ]
          },
          "metadata": {
            "tags": []
          },
          "execution_count": 84
        }
      ]
    },
    {
      "cell_type": "code",
      "metadata": {
        "id": "U9zuyQKhEjho",
        "outputId": "5b1297e2-7325-41e2-f818-cfabd61398d8"
      },
      "source": [
        "test_X.shape"
      ],
      "execution_count": null,
      "outputs": [
        {
          "output_type": "execute_result",
          "data": {
            "text/plain": [
              "(35039, 1, 8)"
            ]
          },
          "metadata": {
            "tags": []
          },
          "execution_count": 85
        }
      ]
    },
    {
      "cell_type": "code",
      "metadata": {
        "id": "6bYQWU4jEjhp"
      },
      "source": [
        "test_x=test_X.copy()"
      ],
      "execution_count": null,
      "outputs": []
    },
    {
      "cell_type": "code",
      "metadata": {
        "id": "z5gqSa73Ejhq",
        "outputId": "4965f2e5-71f0-449b-9fd9-045135b80b3a"
      },
      "source": [
        "# make a prediction\n",
        "yhat = model.predict(test_X)\n",
        "test_X = test_X.reshape((test_X.shape[0], test_X.shape[2]))\n",
        "print(test_X.shape)\n",
        "print(test_X[0])"
      ],
      "execution_count": null,
      "outputs": [
        {
          "output_type": "stream",
          "text": [
            "(35039, 8)\n",
            "[0.0362173  0.33823532 0.1967213  0.83636475 0.33333334 0.12757413\n",
            " 0.         0.        ]\n"
          ],
          "name": "stdout"
        }
      ]
    },
    {
      "cell_type": "code",
      "metadata": {
        "id": "u7Znl9cmEjhr",
        "outputId": "a3bbc57d-873d-4e16-db74-0e532d3e1f9a"
      },
      "source": [
        "yhat[0:5]"
      ],
      "execution_count": null,
      "outputs": [
        {
          "output_type": "execute_result",
          "data": {
            "text/plain": [
              "array([[0.0347351 ],\n",
              "       [0.0313425 ],\n",
              "       [0.02056081],\n",
              "       [0.01933851],\n",
              "       [0.01893271]], dtype=float32)"
            ]
          },
          "metadata": {
            "tags": []
          },
          "execution_count": 88
        }
      ]
    },
    {
      "cell_type": "code",
      "metadata": {
        "id": "WTeMgMF_Ejhs",
        "outputId": "66accc3a-0590-45f9-b66d-28dbe4af75d2"
      },
      "source": [
        "test_X[0]"
      ],
      "execution_count": null,
      "outputs": [
        {
          "output_type": "execute_result",
          "data": {
            "text/plain": [
              "array([0.0362173 , 0.33823532, 0.1967213 , 0.83636475, 0.33333334,\n",
              "       0.12757413, 0.        , 0.        ], dtype=float32)"
            ]
          },
          "metadata": {
            "tags": []
          },
          "execution_count": 91
        }
      ]
    },
    {
      "cell_type": "code",
      "metadata": {
        "id": "WHtcjsUVEjht",
        "outputId": "181b351c-99b8-4724-acbe-0e33a863d94a"
      },
      "source": [
        "from numpy import concatenate\n",
        "# invert scaling for forecast\n",
        "inv_yhat = concatenate((yhat, test_X[:, 1:]), axis=1)\n",
        "print(inv_yhat[0])\n",
        "inv_yhat = scaler.inverse_transform(inv_yhat)\n",
        "print(inv_yhat[0])"
      ],
      "execution_count": null,
      "outputs": [
        {
          "output_type": "stream",
          "text": [
            "[0.0347351  0.33823532 0.1967213  0.83636475 0.33333334 0.12757413\n",
            " 0.         0.        ]\n",
            "[ 3.4526688e+01 -1.7000000e+01 -7.0000000e+00  1.0370000e+03\n",
            "  1.0000000e+00  7.5099998e+01  0.0000000e+00  0.0000000e+00]\n"
          ],
          "name": "stdout"
        }
      ]
    },
    {
      "cell_type": "code",
      "metadata": {
        "id": "Ofn4830SEjhu",
        "outputId": "3616bce3-48dc-4479-83f4-ede6a1532fae"
      },
      "source": [
        "inv_yhat[0:4]"
      ],
      "execution_count": null,
      "outputs": [
        {
          "output_type": "execute_result",
          "data": {
            "text/plain": [
              "array([[ 3.4526688e+01, -1.7000000e+01, -7.0000000e+00,  1.0370000e+03,\n",
              "         1.0000000e+00,  7.5099998e+01,  0.0000000e+00,  0.0000000e+00],\n",
              "       [ 3.1154449e+01, -1.7000000e+01, -7.0000000e+00,  1.0370000e+03,\n",
              "         0.0000000e+00,  4.0200000e+00,  0.0000000e+00,  0.0000000e+00],\n",
              "       [ 2.0437445e+01, -1.7000000e+01, -7.0000000e+00,  1.0370000e+03,\n",
              "         0.0000000e+00,  8.9399996e+00,  0.0000000e+00,  0.0000000e+00],\n",
              "       [ 1.9222479e+01, -1.8000000e+01, -8.0000000e+00,  1.0370000e+03,\n",
              "         1.0000000e+00,  4.0200000e+00,  0.0000000e+00,  0.0000000e+00]],\n",
              "      dtype=float32)"
            ]
          },
          "metadata": {
            "tags": []
          },
          "execution_count": 93
        }
      ]
    },
    {
      "cell_type": "code",
      "metadata": {
        "id": "mzCfZj6EEjhv",
        "outputId": "0e6f9ca1-b372-458b-9364-5d99f55f4f6c"
      },
      "source": [
        "inv_yhat = inv_yhat[:,0]\n",
        "print(inv_yhat[0])"
      ],
      "execution_count": null,
      "outputs": [
        {
          "output_type": "stream",
          "text": [
            "34.526688\n"
          ],
          "name": "stdout"
        }
      ]
    },
    {
      "cell_type": "code",
      "metadata": {
        "id": "-TFHRO0YEjhw",
        "outputId": "ca95d440-9187-421f-91e8-3e46f1c4a7d1"
      },
      "source": [
        "print(test_y[0])"
      ],
      "execution_count": null,
      "outputs": [
        {
          "output_type": "stream",
          "text": [
            "0.03118712\n"
          ],
          "name": "stdout"
        }
      ]
    },
    {
      "cell_type": "code",
      "metadata": {
        "id": "QewN7LLdEjhx",
        "outputId": "f8db0ded-c09b-4823-dbb7-8fc27175a650"
      },
      "source": [
        "# invert scaling for actual\n",
        "test_y = test_y.reshape((len(test_y), 1))\n",
        "print(test_y[0])"
      ],
      "execution_count": null,
      "outputs": [
        {
          "output_type": "stream",
          "text": [
            "[0.03118712]\n"
          ],
          "name": "stdout"
        }
      ]
    },
    {
      "cell_type": "code",
      "metadata": {
        "id": "bsKM1JvFEjhy",
        "outputId": "39c0b53a-67ca-4ef8-a06c-145f405d49c1"
      },
      "source": [
        "inv_y = concatenate((test_y, test_X[:, 1:]), axis=1)\n",
        "print(inv_y[0])\n",
        "inv_y = scaler.inverse_transform(inv_y)\n",
        "print(inv_y[0])"
      ],
      "execution_count": null,
      "outputs": [
        {
          "output_type": "stream",
          "text": [
            "[0.03118712 0.33823532 0.1967213  0.83636475 0.33333334 0.12757413\n",
            " 0.         0.        ]\n",
            "[ 3.100e+01 -1.700e+01 -7.000e+00  1.037e+03  1.000e+00  7.510e+01\n",
            "  0.000e+00  0.000e+00]\n"
          ],
          "name": "stdout"
        }
      ]
    },
    {
      "cell_type": "code",
      "metadata": {
        "id": "C3O_BZT-Ejh0",
        "outputId": "244d7201-25e1-4e7e-c664-91be86cc004e"
      },
      "source": [
        "inv_y = inv_y[:,0]\n",
        "print(inv_y[0])\n",
        "# calculate RMSE\n",
        "rmse = np.sqrt(mean_squared_error(inv_y, inv_yhat))\n",
        "print('Test RMSE: %.3f' % rmse)"
      ],
      "execution_count": null,
      "outputs": [
        {
          "output_type": "stream",
          "text": [
            "31.0\n",
            "Test RMSE: 26.551\n"
          ],
          "name": "stdout"
        }
      ]
    },
    {
      "cell_type": "code",
      "metadata": {
        "id": "944ASVHeEjh1"
      },
      "source": [
        ""
      ],
      "execution_count": null,
      "outputs": []
    }
  ]
}